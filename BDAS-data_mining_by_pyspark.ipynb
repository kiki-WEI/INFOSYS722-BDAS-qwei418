{
 "cells": [
  {
   "cell_type": "markdown",
   "metadata": {},
   "source": [
    "# Step 7 : Data Mining"
   ]
  },
  {
   "cell_type": "markdown",
   "metadata": {},
   "source": [
    "## PD Model Estimation"
   ]
  },
  {
   "cell_type": "code",
   "execution_count": 1,
   "metadata": {},
   "outputs": [],
   "source": [
    "import findspark\n",
    "findspark.init('/home/ubuntu/spark-2.1.1-bin-hadoop2.7/')\n",
    "import pyspark\n",
    "from pyspark.sql import SparkSession\n",
    "spark = SparkSession.builder.appName('creditRisk').getOrCreate()"
   ]
  },
  {
   "cell_type": "code",
   "execution_count": 2,
   "metadata": {},
   "outputs": [],
   "source": [
    "data = spark.read.csv('loan_data_to_model.csv', inferSchema = True, header = True)"
   ]
  },
  {
   "cell_type": "code",
   "execution_count": 3,
   "metadata": {},
   "outputs": [
    {
     "name": "stdout",
     "output_type": "stream",
     "text": [
      "root\n",
      " |-- grade:A: integer (nullable = true)\n",
      " |-- grade:B: integer (nullable = true)\n",
      " |-- grade:C: integer (nullable = true)\n",
      " |-- grade:D: integer (nullable = true)\n",
      " |-- grade:E: integer (nullable = true)\n",
      " |-- grade:F: integer (nullable = true)\n",
      " |-- home_ownership:OWN: integer (nullable = true)\n",
      " |-- home_ownership:MORTGAGE: integer (nullable = true)\n",
      " |-- verification_status:Source Verified: integer (nullable = true)\n",
      " |-- verification_status:Not Verified: integer (nullable = true)\n",
      " |-- purpose:oth_med_vacation: integer (nullable = true)\n",
      " |-- purpose:debt_consolidation: integer (nullable = true)\n",
      " |-- purpose:major_car_home: integer (nullable = true)\n",
      " |-- purpose:credit_card: integer (nullable = true)\n",
      " |-- addr_state:AL_FL: integer (nullable = true)\n",
      " |-- addr_state:NY: integer (nullable = true)\n",
      " |-- addr_state:VA_CA_UT: integer (nullable = true)\n",
      " |-- addr_state:NM_OK_SD_LA_NJ: integer (nullable = true)\n",
      " |-- addr_state:NC_MD: integer (nullable = true)\n",
      " |-- addr_state:MO_AZ: integer (nullable = true)\n",
      " |-- addr_state:PA_RI_MI_AR: integer (nullable = true)\n",
      " |-- addr_state:MA_MN_DE: integer (nullable = true)\n",
      " |-- addr_state:OH_WA_KY: integer (nullable = true)\n",
      " |-- addr_state:OR_GA: integer (nullable = true)\n",
      " |-- addr_state:IN_TN_WI_AK: integer (nullable = true)\n",
      " |-- addr_state:TX: integer (nullable = true)\n",
      " |-- addr_state:MT_CT: integer (nullable = true)\n",
      " |-- addr_state:SC_KS_CO_IL: integer (nullable = true)\n",
      " |-- addr_state:WV_WY_VT_NH: integer (nullable = true)\n",
      " |-- addr_state:MS_DC_NE_ND_ME: integer (nullable = true)\n",
      " |-- initial_list_status:w: integer (nullable = true)\n",
      " |-- term:36: integer (nullable = true)\n",
      " |-- emp_length:1: integer (nullable = true)\n",
      " |-- emp_length:2-3: integer (nullable = true)\n",
      " |-- emp_length:4: integer (nullable = true)\n",
      " |-- emp_length:5: integer (nullable = true)\n",
      " |-- emp_length:6: integer (nullable = true)\n",
      " |-- emp_length:7: integer (nullable = true)\n",
      " |-- emp_length:8-9: integer (nullable = true)\n",
      " |-- emp_length:10: integer (nullable = true)\n",
      " |-- mths_since_issue_d:<4: integer (nullable = true)\n",
      " |-- mths_since_issue_d:4-5: integer (nullable = true)\n",
      " |-- mths_since_issue_d:6-7: integer (nullable = true)\n",
      " |-- mths_since_issue_d:8-11: integer (nullable = true)\n",
      " |-- mths_since_issue_d:12-15: integer (nullable = true)\n",
      " |-- mths_since_issue_d:16-19: integer (nullable = true)\n",
      " |-- mths_since_issue_d:20-25: integer (nullable = true)\n",
      " |-- mths_since_issue_d:26-29: integer (nullable = true)\n",
      " |-- mths_since_issue_d:30-37: integer (nullable = true)\n",
      " |-- mths_since_issue_d:38-49: integer (nullable = true)\n",
      " |-- int_rate:<=5.793: integer (nullable = true)\n",
      " |-- int_rate:5.793-7.214: integer (nullable = true)\n",
      " |-- int_rate:7.214-8.634: integer (nullable = true)\n",
      " |-- int_rate:8.634-10.054: integer (nullable = true)\n",
      " |-- int_rate:10.054-11.474: integer (nullable = true)\n",
      " |-- int_rate:11.474-12.894: integer (nullable = true)\n",
      " |-- int_rate:12.894-13.841: integer (nullable = true)\n",
      " |-- int_rate:13.841-14.788: integer (nullable = true)\n",
      " |-- int_rate:14.788-15.735: integer (nullable = true)\n",
      " |-- int_rate:15.735-17.155: integer (nullable = true)\n",
      " |-- int_rate:17.155-18.575: integer (nullable = true)\n",
      " |-- int_rate:18.575-19.995: integer (nullable = true)\n",
      " |-- mths_since_earliest_cr_line:120-153: integer (nullable = true)\n",
      " |-- mths_since_earliest_cr_line:154-186: integer (nullable = true)\n",
      " |-- mths_since_earliest_cr_line:187-219: integer (nullable = true)\n",
      " |-- mths_since_earliest_cr_line:220-252: integer (nullable = true)\n",
      " |-- mths_since_earliest_cr_line:253-269: integer (nullable = true)\n",
      " |-- mths_since_earliest_cr_line:270-335: integer (nullable = true)\n",
      " |-- mths_since_earliest_cr_line:336-384: integer (nullable = true)\n",
      " |-- mths_since_earliest_cr_line:385-451: integer (nullable = true)\n",
      " |-- mths_since_earliest_cr_line:>451: integer (nullable = true)\n",
      " |-- delinq_2yrs:0: integer (nullable = true)\n",
      " |-- delinq_2yrs:1-3: integer (nullable = true)\n",
      " |-- inq_last_6mths:0: integer (nullable = true)\n",
      " |-- inq_last_6mths:1: integer (nullable = true)\n",
      " |-- inq_last_6mths:2-4: integer (nullable = true)\n",
      " |-- open_acc:8-9: integer (nullable = true)\n",
      " |-- open_acc:10-12: integer (nullable = true)\n",
      " |-- open_acc:13-16: integer (nullable = true)\n",
      " |-- open_acc:17-21: integer (nullable = true)\n",
      " |-- open_acc:22-25: integer (nullable = true)\n",
      " |-- open_acc:>25: integer (nullable = true)\n",
      " |-- pub_rec:1-2: integer (nullable = true)\n",
      " |-- pub_rec:>2: integer (nullable = true)\n",
      " |-- total_acc:12-17: integer (nullable = true)\n",
      " |-- total_acc:18-27: integer (nullable = true)\n",
      " |-- total_acc:28-34: integer (nullable = true)\n",
      " |-- total_acc:35-41: integer (nullable = true)\n",
      " |-- total_acc:42-48: integer (nullable = true)\n",
      " |-- total_acc:>48: integer (nullable = true)\n",
      " |-- acc_now_delinq:>0: integer (nullable = true)\n",
      " |-- annual_inc:20K-30K: integer (nullable = true)\n",
      " |-- annual_inc:30K-40K: integer (nullable = true)\n",
      " |-- annual_inc:40K-50K: integer (nullable = true)\n",
      " |-- annual_inc:50K-60K: integer (nullable = true)\n",
      " |-- annual_inc:60K-70K: integer (nullable = true)\n",
      " |-- annual_inc:70K-80K: integer (nullable = true)\n",
      " |-- annual_inc:80K-90K: integer (nullable = true)\n",
      " |-- annual_inc:90K-100K: integer (nullable = true)\n",
      " |-- annual_inc:>100K: integer (nullable = true)\n",
      " |-- mths_since_last_delinq:Missing: integer (nullable = true)\n",
      " |-- mths_since_last_delinq:16-30: integer (nullable = true)\n",
      " |-- mths_since_last_delinq:31-37: integer (nullable = true)\n",
      " |-- mths_since_last_delinq:38-52: integer (nullable = true)\n",
      " |-- mths_since_last_delinq:53-75: integer (nullable = true)\n",
      " |-- mths_since_last_delinq:>=76: integer (nullable = true)\n",
      " |-- mths_since_last_record:Missing: integer (nullable = true)\n",
      " |-- mths_since_last_record:21-30: integer (nullable = true)\n",
      " |-- mths_since_last_record:31-46: integer (nullable = true)\n",
      " |-- mths_since_last_record:47-61: integer (nullable = true)\n",
      " |-- mths_since_last_record:62-67: integer (nullable = true)\n",
      " |-- mths_since_last_record:68-79: integer (nullable = true)\n",
      " |-- mths_since_last_record:>=80: integer (nullable = true)\n",
      " |-- good_bad: integer (nullable = true)\n",
      "\n"
     ]
    }
   ],
   "source": [
    "data.printSchema()"
   ]
  },
  {
   "cell_type": "code",
   "execution_count": 4,
   "metadata": {},
   "outputs": [
    {
     "data": {
      "text/plain": [
       "['grade:A',\n",
       " 'grade:B',\n",
       " 'grade:C',\n",
       " 'grade:D',\n",
       " 'grade:E',\n",
       " 'grade:F',\n",
       " 'home_ownership:OWN',\n",
       " 'home_ownership:MORTGAGE',\n",
       " 'verification_status:Source Verified',\n",
       " 'verification_status:Not Verified',\n",
       " 'purpose:oth_med_vacation',\n",
       " 'purpose:debt_consolidation',\n",
       " 'purpose:major_car_home',\n",
       " 'purpose:credit_card',\n",
       " 'addr_state:AL_FL',\n",
       " 'addr_state:NY',\n",
       " 'addr_state:VA_CA_UT',\n",
       " 'addr_state:NM_OK_SD_LA_NJ',\n",
       " 'addr_state:NC_MD',\n",
       " 'addr_state:MO_AZ',\n",
       " 'addr_state:PA_RI_MI_AR',\n",
       " 'addr_state:MA_MN_DE',\n",
       " 'addr_state:OH_WA_KY',\n",
       " 'addr_state:OR_GA',\n",
       " 'addr_state:IN_TN_WI_AK',\n",
       " 'addr_state:TX',\n",
       " 'addr_state:MT_CT',\n",
       " 'addr_state:SC_KS_CO_IL',\n",
       " 'addr_state:WV_WY_VT_NH',\n",
       " 'addr_state:MS_DC_NE_ND_ME',\n",
       " 'initial_list_status:w',\n",
       " 'term:36',\n",
       " 'emp_length:1',\n",
       " 'emp_length:2-3',\n",
       " 'emp_length:4',\n",
       " 'emp_length:5',\n",
       " 'emp_length:6',\n",
       " 'emp_length:7',\n",
       " 'emp_length:8-9',\n",
       " 'emp_length:10',\n",
       " 'mths_since_issue_d:<4',\n",
       " 'mths_since_issue_d:4-5',\n",
       " 'mths_since_issue_d:6-7',\n",
       " 'mths_since_issue_d:8-11',\n",
       " 'mths_since_issue_d:12-15',\n",
       " 'mths_since_issue_d:16-19',\n",
       " 'mths_since_issue_d:20-25',\n",
       " 'mths_since_issue_d:26-29',\n",
       " 'mths_since_issue_d:30-37',\n",
       " 'mths_since_issue_d:38-49',\n",
       " 'int_rate:<=5.793',\n",
       " 'int_rate:5.793-7.214',\n",
       " 'int_rate:7.214-8.634',\n",
       " 'int_rate:8.634-10.054',\n",
       " 'int_rate:10.054-11.474',\n",
       " 'int_rate:11.474-12.894',\n",
       " 'int_rate:12.894-13.841',\n",
       " 'int_rate:13.841-14.788',\n",
       " 'int_rate:14.788-15.735',\n",
       " 'int_rate:15.735-17.155',\n",
       " 'int_rate:17.155-18.575',\n",
       " 'int_rate:18.575-19.995',\n",
       " 'mths_since_earliest_cr_line:120-153',\n",
       " 'mths_since_earliest_cr_line:154-186',\n",
       " 'mths_since_earliest_cr_line:187-219',\n",
       " 'mths_since_earliest_cr_line:220-252',\n",
       " 'mths_since_earliest_cr_line:253-269',\n",
       " 'mths_since_earliest_cr_line:270-335',\n",
       " 'mths_since_earliest_cr_line:336-384',\n",
       " 'mths_since_earliest_cr_line:385-451',\n",
       " 'mths_since_earliest_cr_line:>451',\n",
       " 'delinq_2yrs:0',\n",
       " 'delinq_2yrs:1-3',\n",
       " 'inq_last_6mths:0',\n",
       " 'inq_last_6mths:1',\n",
       " 'inq_last_6mths:2-4',\n",
       " 'open_acc:8-9',\n",
       " 'open_acc:10-12',\n",
       " 'open_acc:13-16',\n",
       " 'open_acc:17-21',\n",
       " 'open_acc:22-25',\n",
       " 'open_acc:>25',\n",
       " 'pub_rec:1-2',\n",
       " 'pub_rec:>2',\n",
       " 'total_acc:12-17',\n",
       " 'total_acc:18-27',\n",
       " 'total_acc:28-34',\n",
       " 'total_acc:35-41',\n",
       " 'total_acc:42-48',\n",
       " 'total_acc:>48',\n",
       " 'acc_now_delinq:>0',\n",
       " 'annual_inc:20K-30K',\n",
       " 'annual_inc:30K-40K',\n",
       " 'annual_inc:40K-50K',\n",
       " 'annual_inc:50K-60K',\n",
       " 'annual_inc:60K-70K',\n",
       " 'annual_inc:70K-80K',\n",
       " 'annual_inc:80K-90K',\n",
       " 'annual_inc:90K-100K',\n",
       " 'annual_inc:>100K',\n",
       " 'mths_since_last_delinq:Missing',\n",
       " 'mths_since_last_delinq:16-30',\n",
       " 'mths_since_last_delinq:31-37',\n",
       " 'mths_since_last_delinq:38-52',\n",
       " 'mths_since_last_delinq:53-75',\n",
       " 'mths_since_last_delinq:>=76',\n",
       " 'mths_since_last_record:Missing',\n",
       " 'mths_since_last_record:21-30',\n",
       " 'mths_since_last_record:31-46',\n",
       " 'mths_since_last_record:47-61',\n",
       " 'mths_since_last_record:62-67',\n",
       " 'mths_since_last_record:68-79',\n",
       " 'mths_since_last_record:>=80',\n",
       " 'good_bad']"
      ]
     },
     "execution_count": 4,
     "metadata": {},
     "output_type": "execute_result"
    }
   ],
   "source": [
    "data.columns"
   ]
  },
  {
   "cell_type": "markdown",
   "metadata": {},
   "source": [
    "### Project the data"
   ]
  },
  {
   "cell_type": "code",
   "execution_count": 5,
   "metadata": {},
   "outputs": [],
   "source": [
    "from pyspark.ml.feature import VectorAssembler"
   ]
  },
  {
   "cell_type": "code",
   "execution_count": 6,
   "metadata": {},
   "outputs": [],
   "source": [
    "assembler = VectorAssembler(inputCols=['grade:A',\n",
    " 'grade:B',\n",
    " 'grade:C',\n",
    " 'grade:D',\n",
    " 'grade:E',\n",
    " 'grade:F',\n",
    " 'home_ownership:OWN',\n",
    " 'home_ownership:MORTGAGE',\n",
    " 'verification_status:Source Verified',\n",
    " 'verification_status:Not Verified',\n",
    " 'purpose:oth_med_vacation',\n",
    " 'purpose:debt_consolidation',\n",
    " 'purpose:major_car_home',\n",
    " 'purpose:credit_card',\n",
    " 'addr_state:AL_FL',\n",
    " 'addr_state:NY',\n",
    " 'addr_state:VA_CA_UT',\n",
    " 'addr_state:NM_OK_SD_LA_NJ',\n",
    " 'addr_state:NC_MD',\n",
    " 'addr_state:MO_AZ',\n",
    " 'addr_state:PA_RI_MI_AR',\n",
    " 'addr_state:MA_MN_DE',\n",
    " 'addr_state:OH_WA_KY',\n",
    " 'addr_state:OR_GA',\n",
    " 'addr_state:IN_TN_WI_AK',\n",
    " 'addr_state:TX',\n",
    " 'addr_state:MT_CT',\n",
    " 'addr_state:SC_KS_CO_IL',\n",
    " 'addr_state:WV_WY_VT_NH',\n",
    " 'addr_state:MS_DC_NE_ND_ME',\n",
    " 'initial_list_status:w',\n",
    " 'term:36',\n",
    " 'emp_length:1',\n",
    " 'emp_length:2-3',\n",
    " 'emp_length:4',\n",
    " 'emp_length:5',\n",
    " 'emp_length:6',\n",
    " 'emp_length:7',\n",
    " 'emp_length:8-9',\n",
    " 'emp_length:10',\n",
    " 'mths_since_issue_d:<4',\n",
    " 'mths_since_issue_d:4-5',\n",
    " 'mths_since_issue_d:6-7',\n",
    " 'mths_since_issue_d:8-11',\n",
    " 'mths_since_issue_d:12-15',\n",
    " 'mths_since_issue_d:16-19',\n",
    " 'mths_since_issue_d:20-25',\n",
    " 'mths_since_issue_d:26-29',\n",
    " 'mths_since_issue_d:30-37',\n",
    " 'mths_since_issue_d:38-49',\n",
    " 'mths_since_earliest_cr_line:120-153',\n",
    " 'mths_since_earliest_cr_line:154-186',\n",
    " 'mths_since_earliest_cr_line:187-219',\n",
    " 'mths_since_earliest_cr_line:220-252',\n",
    " 'mths_since_earliest_cr_line:253-269',\n",
    " 'mths_since_earliest_cr_line:270-335',\n",
    " 'mths_since_earliest_cr_line:336-384',\n",
    " 'mths_since_earliest_cr_line:385-451',\n",
    " 'mths_since_earliest_cr_line:>451',\n",
    " 'delinq_2yrs:0',\n",
    " 'delinq_2yrs:1-3',\n",
    " 'inq_last_6mths:0',\n",
    " 'inq_last_6mths:1',\n",
    " 'inq_last_6mths:2-4',\n",
    " 'open_acc:8-9',\n",
    " 'open_acc:10-12',\n",
    " 'open_acc:13-16',\n",
    " 'open_acc:17-21',\n",
    " 'open_acc:22-25',\n",
    " 'open_acc:>25',\n",
    " 'pub_rec:1-2',\n",
    " 'pub_rec:>2',\n",
    " 'total_acc:12-17',\n",
    " 'total_acc:18-27',\n",
    " 'total_acc:28-34',\n",
    " 'total_acc:35-41',\n",
    " 'total_acc:42-48',\n",
    " 'total_acc:>48',\n",
    " 'acc_now_delinq:>0',\n",
    " 'annual_inc:20K-30K',\n",
    " 'annual_inc:30K-40K',\n",
    " 'annual_inc:40K-50K',\n",
    " 'annual_inc:50K-60K',\n",
    " 'annual_inc:60K-70K',\n",
    " 'annual_inc:70K-80K',\n",
    " 'annual_inc:80K-90K',\n",
    " 'annual_inc:90K-100K',\n",
    " 'annual_inc:>100K',\n",
    " 'mths_since_last_delinq:Missing',\n",
    " 'mths_since_last_delinq:16-30',\n",
    " 'mths_since_last_delinq:31-37',\n",
    " 'mths_since_last_delinq:38-52',\n",
    " 'mths_since_last_delinq:53-75',\n",
    " 'mths_since_last_delinq:>=76',\n",
    " 'mths_since_last_record:Missing',\n",
    " 'mths_since_last_record:21-30',\n",
    " 'mths_since_last_record:31-46',\n",
    " 'mths_since_last_record:47-61',\n",
    " 'mths_since_last_record:62-67',\n",
    " 'mths_since_last_record:68-79',\n",
    " 'mths_since_last_record:>=80'],outputCol='features')"
   ]
  },
  {
   "cell_type": "code",
   "execution_count": 7,
   "metadata": {},
   "outputs": [],
   "source": [
    "output = assembler.transform(data)"
   ]
  },
  {
   "cell_type": "code",
   "execution_count": 8,
   "metadata": {},
   "outputs": [],
   "source": [
    "final_data = output.select('features','good_bad')"
   ]
  },
  {
   "cell_type": "code",
   "execution_count": 9,
   "metadata": {},
   "outputs": [
    {
     "data": {
      "text/plain": [
       "887379"
      ]
     },
     "execution_count": 9,
     "metadata": {},
     "output_type": "execute_result"
    }
   ],
   "source": [
    "final_data.count()"
   ]
  },
  {
   "cell_type": "markdown",
   "metadata": {},
   "source": [
    "### Logistic Regression"
   ]
  },
  {
   "cell_type": "code",
   "execution_count": 10,
   "metadata": {},
   "outputs": [],
   "source": [
    "# Split data into training (80%) and test (20%)\n",
    "training, test = final_data.randomSplit([0.8,0.2], seed=22)"
   ]
  },
  {
   "cell_type": "code",
   "execution_count": 11,
   "metadata": {},
   "outputs": [
    {
     "data": {
      "text/plain": [
       "710129"
      ]
     },
     "execution_count": 11,
     "metadata": {},
     "output_type": "execute_result"
    }
   ],
   "source": [
    "training.count()"
   ]
  },
  {
   "cell_type": "code",
   "execution_count": 12,
   "metadata": {},
   "outputs": [
    {
     "data": {
      "text/plain": [
       "177250"
      ]
     },
     "execution_count": 12,
     "metadata": {},
     "output_type": "execute_result"
    }
   ],
   "source": [
    "test.count()"
   ]
  },
  {
   "cell_type": "code",
   "execution_count": 13,
   "metadata": {},
   "outputs": [],
   "source": [
    "from pyspark.ml.classification import LogisticRegression"
   ]
  },
  {
   "cell_type": "code",
   "execution_count": 14,
   "metadata": {
    "collapsed": true
   },
   "outputs": [
    {
     "name": "stderr",
     "output_type": "stream",
     "text": [
      "ERROR:root:Exception while sending command.\n",
      "Traceback (most recent call last):\n",
      "  File \"/home/ubuntu/spark-2.1.1-bin-hadoop2.7/python/lib/py4j-0.10.4-src.zip/py4j/java_gateway.py\", line 1035, in send_command\n",
      "    raise Py4JNetworkError(\"Answer from Java side is empty\")\n",
      "py4j.protocol.Py4JNetworkError: Answer from Java side is empty\n",
      "\n",
      "During handling of the above exception, another exception occurred:\n",
      "\n",
      "Traceback (most recent call last):\n",
      "  File \"/home/ubuntu/spark-2.1.1-bin-hadoop2.7/python/lib/py4j-0.10.4-src.zip/py4j/java_gateway.py\", line 883, in send_command\n",
      "    response = connection.send_command(command)\n",
      "  File \"/home/ubuntu/spark-2.1.1-bin-hadoop2.7/python/lib/py4j-0.10.4-src.zip/py4j/java_gateway.py\", line 1040, in send_command\n",
      "    \"Error while receiving\", e, proto.ERROR_ON_RECEIVE)\n",
      "py4j.protocol.Py4JNetworkError: Error while receiving\n"
     ]
    },
    {
     "ename": "Py4JError",
     "evalue": "An error occurred while calling o52.fit",
     "output_type": "error",
     "traceback": [
      "\u001b[0;31m---------------------------------------------------------------------------\u001b[0m",
      "\u001b[0;31mPy4JError\u001b[0m                                 Traceback (most recent call last)",
      "\u001b[0;32m<ipython-input-14-a073bdf48e40>\u001b[0m in \u001b[0;36m<module>\u001b[0;34m()\u001b[0m\n\u001b[1;32m      4\u001b[0m \u001b[0;34m\u001b[0m\u001b[0m\n\u001b[1;32m      5\u001b[0m \u001b[0;31m# Fit the model\u001b[0m\u001b[0;34m\u001b[0m\u001b[0;34m\u001b[0m\u001b[0m\n\u001b[0;32m----> 6\u001b[0;31m \u001b[0mpdModel\u001b[0m \u001b[0;34m=\u001b[0m \u001b[0mlrReg\u001b[0m\u001b[0;34m.\u001b[0m\u001b[0mfit\u001b[0m\u001b[0;34m(\u001b[0m\u001b[0mtraining\u001b[0m\u001b[0;34m)\u001b[0m\u001b[0;34m\u001b[0m\u001b[0m\n\u001b[0m",
      "\u001b[0;32m~/spark-2.1.1-bin-hadoop2.7/python/pyspark/ml/base.py\u001b[0m in \u001b[0;36mfit\u001b[0;34m(self, dataset, params)\u001b[0m\n\u001b[1;32m     62\u001b[0m                 \u001b[0;32mreturn\u001b[0m \u001b[0mself\u001b[0m\u001b[0;34m.\u001b[0m\u001b[0mcopy\u001b[0m\u001b[0;34m(\u001b[0m\u001b[0mparams\u001b[0m\u001b[0;34m)\u001b[0m\u001b[0;34m.\u001b[0m\u001b[0m_fit\u001b[0m\u001b[0;34m(\u001b[0m\u001b[0mdataset\u001b[0m\u001b[0;34m)\u001b[0m\u001b[0;34m\u001b[0m\u001b[0m\n\u001b[1;32m     63\u001b[0m             \u001b[0;32melse\u001b[0m\u001b[0;34m:\u001b[0m\u001b[0;34m\u001b[0m\u001b[0m\n\u001b[0;32m---> 64\u001b[0;31m                 \u001b[0;32mreturn\u001b[0m \u001b[0mself\u001b[0m\u001b[0;34m.\u001b[0m\u001b[0m_fit\u001b[0m\u001b[0;34m(\u001b[0m\u001b[0mdataset\u001b[0m\u001b[0;34m)\u001b[0m\u001b[0;34m\u001b[0m\u001b[0m\n\u001b[0m\u001b[1;32m     65\u001b[0m         \u001b[0;32melse\u001b[0m\u001b[0;34m:\u001b[0m\u001b[0;34m\u001b[0m\u001b[0m\n\u001b[1;32m     66\u001b[0m             raise ValueError(\"Params must be either a param map or a list/tuple of param maps, \"\n",
      "\u001b[0;32m~/spark-2.1.1-bin-hadoop2.7/python/pyspark/ml/wrapper.py\u001b[0m in \u001b[0;36m_fit\u001b[0;34m(self, dataset)\u001b[0m\n\u001b[1;32m    234\u001b[0m \u001b[0;34m\u001b[0m\u001b[0m\n\u001b[1;32m    235\u001b[0m     \u001b[0;32mdef\u001b[0m \u001b[0m_fit\u001b[0m\u001b[0;34m(\u001b[0m\u001b[0mself\u001b[0m\u001b[0;34m,\u001b[0m \u001b[0mdataset\u001b[0m\u001b[0;34m)\u001b[0m\u001b[0;34m:\u001b[0m\u001b[0;34m\u001b[0m\u001b[0m\n\u001b[0;32m--> 236\u001b[0;31m         \u001b[0mjava_model\u001b[0m \u001b[0;34m=\u001b[0m \u001b[0mself\u001b[0m\u001b[0;34m.\u001b[0m\u001b[0m_fit_java\u001b[0m\u001b[0;34m(\u001b[0m\u001b[0mdataset\u001b[0m\u001b[0;34m)\u001b[0m\u001b[0;34m\u001b[0m\u001b[0m\n\u001b[0m\u001b[1;32m    237\u001b[0m         \u001b[0;32mreturn\u001b[0m \u001b[0mself\u001b[0m\u001b[0;34m.\u001b[0m\u001b[0m_create_model\u001b[0m\u001b[0;34m(\u001b[0m\u001b[0mjava_model\u001b[0m\u001b[0;34m)\u001b[0m\u001b[0;34m\u001b[0m\u001b[0m\n\u001b[1;32m    238\u001b[0m \u001b[0;34m\u001b[0m\u001b[0m\n",
      "\u001b[0;32m~/spark-2.1.1-bin-hadoop2.7/python/pyspark/ml/wrapper.py\u001b[0m in \u001b[0;36m_fit_java\u001b[0;34m(self, dataset)\u001b[0m\n\u001b[1;32m    231\u001b[0m         \"\"\"\n\u001b[1;32m    232\u001b[0m         \u001b[0mself\u001b[0m\u001b[0;34m.\u001b[0m\u001b[0m_transfer_params_to_java\u001b[0m\u001b[0;34m(\u001b[0m\u001b[0;34m)\u001b[0m\u001b[0;34m\u001b[0m\u001b[0m\n\u001b[0;32m--> 233\u001b[0;31m         \u001b[0;32mreturn\u001b[0m \u001b[0mself\u001b[0m\u001b[0;34m.\u001b[0m\u001b[0m_java_obj\u001b[0m\u001b[0;34m.\u001b[0m\u001b[0mfit\u001b[0m\u001b[0;34m(\u001b[0m\u001b[0mdataset\u001b[0m\u001b[0;34m.\u001b[0m\u001b[0m_jdf\u001b[0m\u001b[0;34m)\u001b[0m\u001b[0;34m\u001b[0m\u001b[0m\n\u001b[0m\u001b[1;32m    234\u001b[0m \u001b[0;34m\u001b[0m\u001b[0m\n\u001b[1;32m    235\u001b[0m     \u001b[0;32mdef\u001b[0m \u001b[0m_fit\u001b[0m\u001b[0;34m(\u001b[0m\u001b[0mself\u001b[0m\u001b[0;34m,\u001b[0m \u001b[0mdataset\u001b[0m\u001b[0;34m)\u001b[0m\u001b[0;34m:\u001b[0m\u001b[0;34m\u001b[0m\u001b[0m\n",
      "\u001b[0;32m~/spark-2.1.1-bin-hadoop2.7/python/lib/py4j-0.10.4-src.zip/py4j/java_gateway.py\u001b[0m in \u001b[0;36m__call__\u001b[0;34m(self, *args)\u001b[0m\n\u001b[1;32m   1131\u001b[0m         \u001b[0manswer\u001b[0m \u001b[0;34m=\u001b[0m \u001b[0mself\u001b[0m\u001b[0;34m.\u001b[0m\u001b[0mgateway_client\u001b[0m\u001b[0;34m.\u001b[0m\u001b[0msend_command\u001b[0m\u001b[0;34m(\u001b[0m\u001b[0mcommand\u001b[0m\u001b[0;34m)\u001b[0m\u001b[0;34m\u001b[0m\u001b[0m\n\u001b[1;32m   1132\u001b[0m         return_value = get_return_value(\n\u001b[0;32m-> 1133\u001b[0;31m             answer, self.gateway_client, self.target_id, self.name)\n\u001b[0m\u001b[1;32m   1134\u001b[0m \u001b[0;34m\u001b[0m\u001b[0m\n\u001b[1;32m   1135\u001b[0m         \u001b[0;32mfor\u001b[0m \u001b[0mtemp_arg\u001b[0m \u001b[0;32min\u001b[0m \u001b[0mtemp_args\u001b[0m\u001b[0;34m:\u001b[0m\u001b[0;34m\u001b[0m\u001b[0m\n",
      "\u001b[0;32m~/spark-2.1.1-bin-hadoop2.7/python/pyspark/sql/utils.py\u001b[0m in \u001b[0;36mdeco\u001b[0;34m(*a, **kw)\u001b[0m\n\u001b[1;32m     61\u001b[0m     \u001b[0;32mdef\u001b[0m \u001b[0mdeco\u001b[0m\u001b[0;34m(\u001b[0m\u001b[0;34m*\u001b[0m\u001b[0ma\u001b[0m\u001b[0;34m,\u001b[0m \u001b[0;34m**\u001b[0m\u001b[0mkw\u001b[0m\u001b[0;34m)\u001b[0m\u001b[0;34m:\u001b[0m\u001b[0;34m\u001b[0m\u001b[0m\n\u001b[1;32m     62\u001b[0m         \u001b[0;32mtry\u001b[0m\u001b[0;34m:\u001b[0m\u001b[0;34m\u001b[0m\u001b[0m\n\u001b[0;32m---> 63\u001b[0;31m             \u001b[0;32mreturn\u001b[0m \u001b[0mf\u001b[0m\u001b[0;34m(\u001b[0m\u001b[0;34m*\u001b[0m\u001b[0ma\u001b[0m\u001b[0;34m,\u001b[0m \u001b[0;34m**\u001b[0m\u001b[0mkw\u001b[0m\u001b[0;34m)\u001b[0m\u001b[0;34m\u001b[0m\u001b[0m\n\u001b[0m\u001b[1;32m     64\u001b[0m         \u001b[0;32mexcept\u001b[0m \u001b[0mpy4j\u001b[0m\u001b[0;34m.\u001b[0m\u001b[0mprotocol\u001b[0m\u001b[0;34m.\u001b[0m\u001b[0mPy4JJavaError\u001b[0m \u001b[0;32mas\u001b[0m \u001b[0me\u001b[0m\u001b[0;34m:\u001b[0m\u001b[0;34m\u001b[0m\u001b[0m\n\u001b[1;32m     65\u001b[0m             \u001b[0ms\u001b[0m \u001b[0;34m=\u001b[0m \u001b[0me\u001b[0m\u001b[0;34m.\u001b[0m\u001b[0mjava_exception\u001b[0m\u001b[0;34m.\u001b[0m\u001b[0mtoString\u001b[0m\u001b[0;34m(\u001b[0m\u001b[0;34m)\u001b[0m\u001b[0;34m\u001b[0m\u001b[0m\n",
      "\u001b[0;32m~/spark-2.1.1-bin-hadoop2.7/python/lib/py4j-0.10.4-src.zip/py4j/protocol.py\u001b[0m in \u001b[0;36mget_return_value\u001b[0;34m(answer, gateway_client, target_id, name)\u001b[0m\n\u001b[1;32m    325\u001b[0m             raise Py4JError(\n\u001b[1;32m    326\u001b[0m                 \u001b[0;34m\"An error occurred while calling {0}{1}{2}\"\u001b[0m\u001b[0;34m.\u001b[0m\u001b[0;34m\u001b[0m\u001b[0m\n\u001b[0;32m--> 327\u001b[0;31m                 format(target_id, \".\", name))\n\u001b[0m\u001b[1;32m    328\u001b[0m     \u001b[0;32melse\u001b[0m\u001b[0;34m:\u001b[0m\u001b[0;34m\u001b[0m\u001b[0m\n\u001b[1;32m    329\u001b[0m         \u001b[0mtype\u001b[0m \u001b[0;34m=\u001b[0m \u001b[0manswer\u001b[0m\u001b[0;34m[\u001b[0m\u001b[0;36m1\u001b[0m\u001b[0;34m]\u001b[0m\u001b[0;34m\u001b[0m\u001b[0m\n",
      "\u001b[0;31mPy4JError\u001b[0m: An error occurred while calling o52.fit"
     ]
    }
   ],
   "source": [
    "# Logistic Regression\n",
    "\n",
    "lrReg = LogisticRegression().setLabelCol(\"good_bad\").setRegParam(0.003).setElasticNetParam(1)\n",
    "\n",
    "# Fit the model\n",
    "pdModel = lrReg.fit(training)"
   ]
  },
  {
   "cell_type": "code",
   "execution_count": 15,
   "metadata": {
    "collapsed": true
   },
   "outputs": [
    {
     "ename": "NameError",
     "evalue": "name 'pdModel' is not defined",
     "output_type": "error",
     "traceback": [
      "\u001b[0;31m---------------------------------------------------------------------------\u001b[0m",
      "\u001b[0;31mNameError\u001b[0m                                 Traceback (most recent call last)",
      "\u001b[0;32m<ipython-input-15-1a6d6ef1ca5f>\u001b[0m in \u001b[0;36m<module>\u001b[0;34m()\u001b[0m\n\u001b[1;32m      1\u001b[0m \u001b[0;31m# Print the coefficients and intercept for logistic regression\u001b[0m\u001b[0;34m\u001b[0m\u001b[0;34m\u001b[0m\u001b[0m\n\u001b[0;32m----> 2\u001b[0;31m \u001b[0mprint\u001b[0m\u001b[0;34m(\u001b[0m\u001b[0;34m\"Coefficients: \"\u001b[0m \u001b[0;34m+\u001b[0m \u001b[0mstr\u001b[0m\u001b[0;34m(\u001b[0m\u001b[0mpdModel\u001b[0m\u001b[0;34m.\u001b[0m\u001b[0mcoefficientMatrix\u001b[0m\u001b[0;34m)\u001b[0m\u001b[0;34m)\u001b[0m\u001b[0;34m\u001b[0m\u001b[0m\n\u001b[0m\u001b[1;32m      3\u001b[0m \u001b[0mprint\u001b[0m\u001b[0;34m(\u001b[0m\u001b[0;34m\"Intercept: \"\u001b[0m \u001b[0;34m+\u001b[0m \u001b[0mstr\u001b[0m\u001b[0;34m(\u001b[0m\u001b[0mpdModel\u001b[0m\u001b[0;34m.\u001b[0m\u001b[0minterceptVector\u001b[0m\u001b[0;34m)\u001b[0m\u001b[0;34m)\u001b[0m\u001b[0;34m\u001b[0m\u001b[0m\n",
      "\u001b[0;31mNameError\u001b[0m: name 'pdModel' is not defined"
     ]
    }
   ],
   "source": [
    "# Print the coefficients and intercept for logistic regression\n",
    "print(\"Coefficients: \" + str(pdModel.coefficientMatrix))\n",
    "print(\"Intercept: \" + str(pdModel.interceptVector))"
   ]
  },
  {
   "cell_type": "code",
   "execution_count": null,
   "metadata": {},
   "outputs": [],
   "source": [
    "training_sum = pdModel.summary"
   ]
  },
  {
   "cell_type": "code",
   "execution_count": null,
   "metadata": {},
   "outputs": [],
   "source": [
    "training_sum.predictions.describe().show()"
   ]
  },
  {
   "cell_type": "markdown",
   "metadata": {},
   "source": [
    "### Re-Model"
   ]
  },
  {
   "cell_type": "code",
   "execution_count": 8,
   "metadata": {},
   "outputs": [],
   "source": [
    "from pyspark.ml.feature import VectorAssembler"
   ]
  },
  {
   "cell_type": "code",
   "execution_count": 9,
   "metadata": {},
   "outputs": [],
   "source": [
    "assembler = VectorAssembler(inputCols=['grade:A',\n",
    " 'grade:B',\n",
    " 'grade:C',\n",
    " 'grade:D',\n",
    " 'grade:E',\n",
    " 'grade:F',\n",
    " 'home_ownership:OWN',\n",
    " 'home_ownership:MORTGAGE',\n",
    " 'verification_status:Source Verified',\n",
    " 'verification_status:Not Verified',\n",
    " 'purpose:oth_med_vacation',\n",
    " 'purpose:debt_consolidation',\n",
    " 'purpose:major_car_home',\n",
    " 'purpose:credit_card',\n",
    " 'addr_state:AL_FL',\n",
    " 'addr_state:NY',\n",
    " 'addr_state:VA_CA_UT',\n",
    " 'addr_state:NM_OK_SD_LA_NJ',\n",
    " 'addr_state:NC_MD',\n",
    " 'addr_state:MO_AZ',\n",
    " 'addr_state:PA_RI_MI_AR',\n",
    " 'addr_state:MA_MN_DE',\n",
    " 'addr_state:OH_WA_KY',\n",
    " 'addr_state:OR_GA',\n",
    " 'addr_state:IN_TN_WI_AK',\n",
    " 'addr_state:TX',\n",
    " 'addr_state:MT_CT',\n",
    " 'addr_state:SC_KS_CO_IL',\n",
    " 'addr_state:WV_WY_VT_NH',\n",
    " 'addr_state:MS_DC_NE_ND_ME',\n",
    " 'initial_list_status:w',\n",
    " 'emp_length:1',\n",
    " 'emp_length:2-3',\n",
    " 'emp_length:4',\n",
    " 'emp_length:5',\n",
    " 'emp_length:6',\n",
    " 'emp_length:7',\n",
    " 'emp_length:8-9',\n",
    " 'emp_length:10',\n",
    " 'mths_since_issue_d:<4',\n",
    " 'mths_since_issue_d:4-5',\n",
    " 'mths_since_issue_d:6-7',\n",
    " 'mths_since_issue_d:8-11',\n",
    " 'mths_since_issue_d:12-15',\n",
    " 'mths_since_issue_d:16-19',\n",
    " 'mths_since_issue_d:20-25',\n",
    " 'mths_since_issue_d:26-29',\n",
    " 'mths_since_issue_d:30-37',\n",
    " 'mths_since_issue_d:38-49',\n",
    " 'mths_since_earliest_cr_line:120-153',\n",
    " 'mths_since_earliest_cr_line:154-186',\n",
    " 'mths_since_earliest_cr_line:187-219',\n",
    " 'mths_since_earliest_cr_line:220-252',\n",
    " 'mths_since_earliest_cr_line:253-269',\n",
    " 'mths_since_earliest_cr_line:270-335',\n",
    " 'mths_since_earliest_cr_line:336-384',\n",
    " 'mths_since_earliest_cr_line:385-451',\n",
    " 'mths_since_earliest_cr_line:>451',\n",
    " 'inq_last_6mths:0',\n",
    " 'inq_last_6mths:1',\n",
    " 'inq_last_6mths:2-4',\n",
    " 'open_acc:8-9',\n",
    " 'open_acc:10-12',\n",
    " 'open_acc:13-16',\n",
    " 'open_acc:17-21',\n",
    " 'open_acc:22-25',\n",
    " 'open_acc:>25',\n",
    " 'pub_rec:1-2',\n",
    " 'pub_rec:>2',\n",
    " 'total_acc:12-17',\n",
    " 'total_acc:18-27',\n",
    " 'total_acc:28-34',\n",
    " 'total_acc:35-41',\n",
    " 'total_acc:42-48',\n",
    " 'total_acc:>48',\n",
    " 'annual_inc:20K-30K',\n",
    " 'annual_inc:30K-40K',\n",
    " 'annual_inc:40K-50K',\n",
    " 'annual_inc:50K-60K',\n",
    " 'annual_inc:60K-70K',\n",
    " 'annual_inc:70K-80K',\n",
    " 'annual_inc:80K-90K',\n",
    " 'annual_inc:90K-100K',\n",
    " 'annual_inc:>100K',\n",
    " 'mths_since_last_delinq:Missing',\n",
    " 'mths_since_last_delinq:16-30',\n",
    " 'mths_since_last_delinq:31-37',\n",
    " 'mths_since_last_delinq:38-52',\n",
    " 'mths_since_last_delinq:53-75',\n",
    " 'mths_since_last_delinq:>=76',\n",
    " 'mths_since_last_record:Missing',\n",
    " 'mths_since_last_record:21-30',\n",
    " 'mths_since_last_record:31-46',\n",
    " 'mths_since_last_record:47-61',\n",
    " 'mths_since_last_record:62-67',\n",
    " 'mths_since_last_record:68-79',\n",
    " 'mths_since_last_record:>=80'],outputCol='features')"
   ]
  },
  {
   "cell_type": "code",
   "execution_count": 10,
   "metadata": {},
   "outputs": [],
   "source": [
    "output = assembler.transform(data)"
   ]
  },
  {
   "cell_type": "code",
   "execution_count": 11,
   "metadata": {},
   "outputs": [],
   "source": [
    "final_data = output.select('features','good_bad')"
   ]
  },
  {
   "cell_type": "code",
   "execution_count": 12,
   "metadata": {},
   "outputs": [],
   "source": [
    "# Split data into training (80%) and test (20%)\n",
    "training, test = final_data.randomSplit([0.8,0.2], seed=22)"
   ]
  },
  {
   "cell_type": "code",
   "execution_count": 13,
   "metadata": {},
   "outputs": [],
   "source": [
    "from pyspark.ml.classification import LogisticRegression"
   ]
  },
  {
   "cell_type": "code",
   "execution_count": 14,
   "metadata": {},
   "outputs": [],
   "source": [
    "# Logistic Regression\n",
    "\n",
    "lrReg2 = LogisticRegression().setLabelCol(\"good_bad\").setRegParam(0.003).setElasticNetParam(1)\n",
    "\n",
    "# Fit the model\n",
    "pdModel2 = lrReg2.fit(training)"
   ]
  },
  {
   "cell_type": "code",
   "execution_count": 16,
   "metadata": {},
   "outputs": [
    {
     "name": "stdout",
     "output_type": "stream",
     "text": [
      "Coefficients: 1 X 97 CSRMatrix\n",
      "(0,0) 0.9178\n",
      "(0,1) 0.3808\n",
      "(0,3) -0.2516\n",
      "(0,4) -0.5321\n",
      "(0,5) -0.7485\n",
      "(0,7) 0.1079\n",
      "(0,13) 0.0448\n",
      "(0,27) 0.0263\n",
      "(0,30) 0.1546\n",
      "(0,38) 0.0216\n",
      "(0,39) 2.2321\n",
      "(0,40) 1.5401\n",
      "(0,41) 1.1341\n",
      "(0,42) 0.7484\n",
      "(0,43) 0.2823\n",
      "(0,46) -0.1028\n",
      "..\n",
      "..\n",
      "Intercept: [2.022923880727304]\n"
     ]
    }
   ],
   "source": [
    "# Print the coefficients and intercept for logistic regression\n",
    "print(\"Coefficients: \" + str(pdModel2.coefficientMatrix))\n",
    "print(\"Intercept: \" + str(pdModel2.interceptVector))"
   ]
  },
  {
   "cell_type": "code",
   "execution_count": 18,
   "metadata": {},
   "outputs": [],
   "source": [
    "training_sum = pdModel2.summary"
   ]
  },
  {
   "cell_type": "code",
   "execution_count": 19,
   "metadata": {},
   "outputs": [
    {
     "name": "stdout",
     "output_type": "stream",
     "text": [
      "+-------+------------------+----------+\n",
      "|summary|          good_bad|prediction|\n",
      "+-------+------------------+----------+\n",
      "|  count|            710129|    710129|\n",
      "|   mean|0.9308703066625923|       1.0|\n",
      "| stddev|0.2536747316053523|       0.0|\n",
      "|    min|               0.0|       1.0|\n",
      "|    max|               1.0|       1.0|\n",
      "+-------+------------------+----------+\n",
      "\n"
     ]
    }
   ],
   "source": [
    "training_sum.predictions.describe().show()"
   ]
  },
  {
   "cell_type": "markdown",
   "metadata": {},
   "source": [
    "## PD Model Validation (Test)"
   ]
  },
  {
   "cell_type": "markdown",
   "metadata": {},
   "source": [
    "### Out-of-sample vallidation (test)"
   ]
  },
  {
   "cell_type": "code",
   "execution_count": 20,
   "metadata": {},
   "outputs": [],
   "source": [
    "from pyspark.ml.evaluation import BinaryClassificationEvaluator"
   ]
  },
  {
   "cell_type": "code",
   "execution_count": 21,
   "metadata": {},
   "outputs": [],
   "source": [
    "pred_and_labels = pdModel2.evaluate(test)"
   ]
  },
  {
   "cell_type": "code",
   "execution_count": 22,
   "metadata": {},
   "outputs": [
    {
     "name": "stdout",
     "output_type": "stream",
     "text": [
      "+--------------------+--------+--------------------+--------------------+----------+\n",
      "|            features|good_bad|       rawPrediction|         probability|prediction|\n",
      "+--------------------+--------+--------------------+--------------------+----------+\n",
      "|(97,[0,6,8,10,14,...|       1|[-5.5017100546146...|[0.00406321176227...|       1.0|\n",
      "|(97,[0,6,8,10,15,...|       1|[-2.2086008233564...|[0.09898078677842...|       1.0|\n",
      "|(97,[0,6,8,10,16,...|       1|[-5.3473571181573...|[0.00473815936560...|       1.0|\n",
      "|(97,[0,6,8,10,16,...|       1|[-2.2924393634781...|[0.09175106837840...|       1.0|\n",
      "|(97,[0,6,8,10,16,...|       0|[-2.9925224225357...|[0.04776483065660...|       1.0|\n",
      "|(97,[0,6,8,10,17,...|       1|[-5.4311956582790...|[0.00435877614556...|       1.0|\n",
      "|(97,[0,6,8,10,17,...|       1|[-2.5088660313053...|[0.07523897083992...|       1.0|\n",
      "|(97,[0,6,8,10,19,...|       1|[-2.5088660313053...|[0.07523897083992...|       1.0|\n",
      "|(97,[0,6,8,10,20,...|       1|[-2.7224802923672...|[0.06165980570434...|       1.0|\n",
      "|(97,[0,6,8,10,20,...|       1|[-2.3140239680700...|[0.08996814279677...|       1.0|\n",
      "|(97,[0,6,8,10,20,...|       1|[-3.0660608220673...|[0.04452912458555...|       1.0|\n",
      "|(97,[0,6,8,10,21,...|       1|[-3.0660608220673...|[0.04452912458555...|       1.0|\n",
      "|(97,[0,6,8,10,23,...|       1|[-3.1971384353665...|[0.03927355065567...|       1.0|\n",
      "|(97,[0,6,8,10,23,...|       1|[-2.5304506358972...|[0.07375085699897...|       1.0|\n",
      "|(97,[0,6,8,10,27,...|       1|[-5.3538040212992...|[0.00470785451055...|       1.0|\n",
      "|(97,[0,6,8,10,27,...|       1|[-3.0708170066429...|[0.04432720441803...|       1.0|\n",
      "|(97,[0,6,8,10,36,...|       0|[-2.8280495496481...|[0.05582711802340...|       1.0|\n",
      "|(97,[0,6,8,11,14,...|       0|[-3.4813603945393...|[0.02984726246560...|       1.0|\n",
      "|(97,[0,6,8,11,14,...|       1|[-5.4311956582790...|[0.00435877614556...|       1.0|\n",
      "|(97,[0,6,8,11,14,...|       1|[-5.4311956582790...|[0.00435877614556...|       1.0|\n",
      "+--------------------+--------+--------------------+--------------------+----------+\n",
      "only showing top 20 rows\n",
      "\n"
     ]
    }
   ],
   "source": [
    "pred_and_labels.predictions.show()"
   ]
  },
  {
   "cell_type": "markdown",
   "metadata": {},
   "source": [
    "### Accuracy and Area under the Curve"
   ]
  },
  {
   "cell_type": "code",
   "execution_count": 23,
   "metadata": {},
   "outputs": [],
   "source": [
    "good_bad_eval = BinaryClassificationEvaluator(rawPredictionCol='prediction', labelCol='good_bad')"
   ]
  },
  {
   "cell_type": "code",
   "execution_count": null,
   "metadata": {},
   "outputs": [],
   "source": [
    "auc = good_bad_eval.evaluate(pred_and_labels.predictions)"
   ]
  },
  {
   "cell_type": "code",
   "execution_count": null,
   "metadata": {},
   "outputs": [],
   "source": [
    "auc"
   ]
  },
  {
   "cell_type": "code",
   "execution_count": null,
   "metadata": {},
   "outputs": [],
   "source": []
  },
  {
   "cell_type": "code",
   "execution_count": null,
   "metadata": {},
   "outputs": [],
   "source": []
  },
  {
   "cell_type": "code",
   "execution_count": null,
   "metadata": {},
   "outputs": [],
   "source": []
  }
 ],
 "metadata": {
  "kernelspec": {
   "display_name": "Python 3",
   "language": "python",
   "name": "python3"
  },
  "language_info": {
   "codemirror_mode": {
    "name": "ipython",
    "version": 3
   },
   "file_extension": ".py",
   "mimetype": "text/x-python",
   "name": "python",
   "nbconvert_exporter": "python",
   "pygments_lexer": "ipython3",
   "version": "3.5.2"
  }
 },
 "nbformat": 4,
 "nbformat_minor": 4
}
